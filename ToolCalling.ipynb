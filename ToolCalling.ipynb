{
 "cells": [
  {
   "cell_type": "code",
   "execution_count": 1,
   "metadata": {},
   "outputs": [
    {
     "data": {
      "text/plain": [
       "True"
      ]
     },
     "execution_count": 1,
     "metadata": {},
     "output_type": "execute_result"
    }
   ],
   "source": [
    "from dotenv import load_dotenv\n",
    "\n",
    "load_dotenv()"
   ]
  },
  {
   "cell_type": "code",
   "execution_count": 2,
   "metadata": {},
   "outputs": [],
   "source": [
    "def print_ai_message_details(ai_message):\n",
    "    print(\"📩 AIMessage Details:\")\n",
    "    print(f\"Content:\\n  {ai_message.content}\\n\")\n",
    "\n",
    "    print(\"Additional Kwargs:\")\n",
    "    for k, v in ai_message.additional_kwargs.items():\n",
    "        print(f\"  {k}: {v}\")\n",
    "    \n",
    "    # print(\"\\nResponse Metadata:\")\n",
    "    # for k, v in ai_message.response_metadata.items():\n",
    "    #     print(f\"  {k}: {v}\")\n",
    "    \n",
    "    print(f\"\\nID: {ai_message.id}\")\n",
    "\n",
    "    # print(\"\\nUsage Metadata:\")\n",
    "    # for k, v in ai_message.usage_metadata.items():\n",
    "    #     print(f\"  {k}: {v}\")\n"
   ]
  },
  {
   "cell_type": "code",
   "execution_count": 3,
   "metadata": {},
   "outputs": [],
   "source": [
    "prompt = \"How will the weather be in Munich today?\"\n",
    "# prompt = \"What is the capital of France?\""
   ]
  },
  {
   "cell_type": "code",
   "execution_count": 4,
   "metadata": {},
   "outputs": [],
   "source": [
    "from langchain_openai import ChatOpenAI\n",
    "\n",
    "llm = ChatOpenAI(model=\"gpt-4o-mini\")"
   ]
  },
  {
   "cell_type": "code",
   "execution_count": 5,
   "metadata": {},
   "outputs": [
    {
     "name": "stdout",
     "output_type": "stream",
     "text": [
      "📩 AIMessage Details:\n",
      "Content:\n",
      "  I'm unable to provide real-time weather updates, including the current weather in Munich. I recommend checking a reliable weather website or app for the latest information.\n",
      "\n",
      "Additional Kwargs:\n",
      "  refusal: None\n",
      "\n",
      "ID: run--2489e7b0-8c87-4334-965f-fea62392d0ce-0\n"
     ]
    }
   ],
   "source": [
    "llm_message = llm.invoke(prompt)\n",
    "print_ai_message_details(llm_message)"
   ]
  },
  {
   "cell_type": "code",
   "execution_count": 6,
   "metadata": {},
   "outputs": [],
   "source": [
    "def print_human_message_details(messages):\n",
    "    for i, msg in enumerate(messages):\n",
    "        print(f\"\\n--- Message {i+1} ({msg.__class__.__name__}) ---\")\n",
    "        \n",
    "        if hasattr(msg, 'content'):\n",
    "            print(f\"Content: {msg.content}\")\n",
    "        \n",
    "        if hasattr(msg, 'additional_kwargs') and msg.additional_kwargs:\n",
    "            print(\"Additional Kwargs:\")\n",
    "            for k, v in msg.additional_kwargs.items():\n",
    "                print(f\"  {k}: {v}\")\n",
    "        \n",
    "        # if hasattr(msg, 'response_metadata') and msg.response_metadata:\n",
    "        #     print(\"Response Metadata:\")\n",
    "        #     for k, v in msg.response_metadata.items():\n",
    "        #         print(f\"  {k}: {v}\")\n",
    "\n",
    "        if hasattr(msg, 'tool_calls') and msg.tool_calls:\n",
    "            print(\"Tool Calls:\")\n",
    "            for call in msg.tool_calls:\n",
    "                print(f\"  - Tool Name: {call.get('name')}\")\n",
    "                print(f\"    Args: {call.get('args')}\")\n",
    "                print(f\"    ID: {call.get('id')}\")\n",
    "                print(f\"    Type: {call.get('type')}\")\n",
    "\n",
    "        if hasattr(msg, 'id'):\n",
    "            print(f\"ID: {msg.id}\")\n",
    "        \n",
    "        # if hasattr(msg, 'usage_metadata') and msg.usage_metadata:\n",
    "        #     print(\"Usage Metadata:\")\n",
    "        #     for k, v in msg.usage_metadata.items():\n",
    "        #         print(f\"  {k}: {v}\")\n"
   ]
  },
  {
   "cell_type": "code",
   "execution_count": 7,
   "metadata": {},
   "outputs": [],
   "source": [
    "# print_ai_message_details(llm_message)"
   ]
  },
  {
   "cell_type": "markdown",
   "metadata": {},
   "source": [
    "## Same python code\n",
    "\n",
    "```python\n",
    "class WeatherInput(BaseModel):\n",
    "    city: str\n",
    "\n",
    "# Define the actual function\n",
    "def fake_weather_api(city: str) -> str:\n",
    "    return f\"The weather in {city} is always sunny in this fake API.\"\n",
    "\n",
    "# Register as a StructuredTool\n",
    "weather_tool = StructuredTool.from_function(\n",
    "    func=fake_weather_api,\n",
    "    name=\"fake_weather_api\",\n",
    "    description=\"Check the weather in a specified city.\",\n",
    "    args_schema=WeatherInput\n",
    ")\n",
    "\n",
    "tools = [weather_tool]\n",
    "```"
   ]
  },
  {
   "cell_type": "code",
   "execution_count": 8,
   "metadata": {},
   "outputs": [],
   "source": [
    "from langchain_core.tools import tool\n",
    "\n",
    "\n",
    "@tool\n",
    "def fake_weather_api(city: str) -> str:\n",
    "    \"\"\"\n",
    "    Check the weather in a specified city.\n",
    "\n",
    "    Args:\n",
    "        city (str): The name of the city where you want to check the weather.\n",
    "\n",
    "    Returns:\n",
    "        str: A description of the current weather in the specified city.\n",
    "    \"\"\"\n",
    "    return f\"{city}: Sunny, 22°C\"\n",
    "\n",
    "\n",
    "tools = [fake_weather_api]"
   ]
  },
  {
   "cell_type": "code",
   "execution_count": 9,
   "metadata": {},
   "outputs": [
    {
     "data": {
      "text/plain": [
       "[StructuredTool(name='fake_weather_api', description='Check the weather in a specified city.\\n\\nArgs:\\n    city (str): The name of the city where you want to check the weather.\\n\\nReturns:\\n    str: A description of the current weather in the specified city.', args_schema=<class 'langchain_core.utils.pydantic.fake_weather_api'>, func=<function fake_weather_api at 0x0000017E54D0A980>)]"
      ]
     },
     "execution_count": 9,
     "metadata": {},
     "output_type": "execute_result"
    }
   ],
   "source": [
    "tools"
   ]
  },
  {
   "cell_type": "code",
   "execution_count": 10,
   "metadata": {},
   "outputs": [],
   "source": [
    "llm_with_tools = llm.bind_tools(tools)"
   ]
  },
  {
   "cell_type": "code",
   "execution_count": 11,
   "metadata": {},
   "outputs": [
    {
     "name": "stdout",
     "output_type": "stream",
     "text": [
      "📩 AIMessage Details:\n",
      "Content:\n",
      "  \n",
      "\n",
      "Additional Kwargs:\n",
      "  tool_calls: [{'id': 'call_R33OhbmW6mM9PDNjPsatla1m', 'function': {'arguments': '{\"city\":\"Munich\"}', 'name': 'fake_weather_api'}, 'type': 'function'}]\n",
      "  refusal: None\n",
      "\n",
      "ID: run--367c1492-02f1-4699-a230-e9d8abdbe0e6-0\n"
     ]
    }
   ],
   "source": [
    "result = llm_with_tools.invoke(prompt)\n",
    "print_ai_message_details(result)"
   ]
  },
  {
   "cell_type": "markdown",
   "metadata": {},
   "source": [
    "## Step 1 User Prompt => HumanMessage"
   ]
  },
  {
   "cell_type": "code",
   "execution_count": 12,
   "metadata": {},
   "outputs": [
    {
     "name": "stdout",
     "output_type": "stream",
     "text": [
      "\n",
      "--- Message 1 (HumanMessage) ---\n",
      "Content: How will the weather be in Munich today?\n",
      "ID: None\n"
     ]
    }
   ],
   "source": [
    "from langchain_core.messages import HumanMessage, ToolMessage\n",
    "\n",
    "messages = [\n",
    "    HumanMessage(prompt)\n",
    "]\n",
    "\n",
    "print_human_message_details(messages)"
   ]
  },
  {
   "cell_type": "markdown",
   "metadata": {},
   "source": [
    "## Step 2 Binding Tools w User Prompt => LLM\n"
   ]
  },
  {
   "cell_type": "code",
   "execution_count": 13,
   "metadata": {},
   "outputs": [
    {
     "name": "stdout",
     "output_type": "stream",
     "text": [
      "📩 AIMessage Details:\n",
      "Content:\n",
      "  \n",
      "\n",
      "Additional Kwargs:\n",
      "  tool_calls: [{'id': 'call_4URFHZWFKCFj1568H1XyGcpX', 'function': {'arguments': '{\"city\":\"Munich\"}', 'name': 'fake_weather_api'}, 'type': 'function'}]\n",
      "  refusal: None\n",
      "\n",
      "ID: run--6c5e1fe9-519d-4f7c-8fb1-36eedc55eed2-0\n"
     ]
    }
   ],
   "source": [
    "llm_output = llm_with_tools.invoke(messages)\n",
    "print_ai_message_details(llm_output)\n",
    "\n"
   ]
  },
  {
   "cell_type": "code",
   "execution_count": 14,
   "metadata": {},
   "outputs": [
    {
     "name": "stdout",
     "output_type": "stream",
     "text": [
      "\n",
      "--- Message 1 (HumanMessage) ---\n",
      "Content: How will the weather be in Munich today?\n",
      "ID: None\n",
      "\n",
      "--- Message 2 (AIMessage) ---\n",
      "Content: \n",
      "Additional Kwargs:\n",
      "  tool_calls: [{'id': 'call_4URFHZWFKCFj1568H1XyGcpX', 'function': {'arguments': '{\"city\":\"Munich\"}', 'name': 'fake_weather_api'}, 'type': 'function'}]\n",
      "  refusal: None\n",
      "Tool Calls:\n",
      "  - Tool Name: fake_weather_api\n",
      "    Args: {'city': 'Munich'}\n",
      "    ID: call_4URFHZWFKCFj1568H1XyGcpX\n",
      "    Type: tool_call\n",
      "ID: run--6c5e1fe9-519d-4f7c-8fb1-36eedc55eed2-0\n"
     ]
    }
   ],
   "source": [
    "messages.append(llm_output)\n",
    "print_human_message_details(messages)"
   ]
  },
  {
   "cell_type": "markdown",
   "metadata": {},
   "source": [
    "## Step 3 Call Tools and Bind Results to HumanMessage"
   ]
  },
  {
   "cell_type": "code",
   "execution_count": 15,
   "metadata": {},
   "outputs": [
    {
     "name": "stdout",
     "output_type": "stream",
     "text": [
      "\n",
      "--- Message 1 (HumanMessage) ---\n",
      "Content: How will the weather be in Munich today?\n",
      "ID: None\n",
      "\n",
      "--- Message 2 (AIMessage) ---\n",
      "Content: \n",
      "Additional Kwargs:\n",
      "  tool_calls: [{'id': 'call_4URFHZWFKCFj1568H1XyGcpX', 'function': {'arguments': '{\"city\":\"Munich\"}', 'name': 'fake_weather_api'}, 'type': 'function'}]\n",
      "  refusal: None\n",
      "Tool Calls:\n",
      "  - Tool Name: fake_weather_api\n",
      "    Args: {'city': 'Munich'}\n",
      "    ID: call_4URFHZWFKCFj1568H1XyGcpX\n",
      "    Type: tool_call\n",
      "ID: run--6c5e1fe9-519d-4f7c-8fb1-36eedc55eed2-0\n",
      "\n",
      "--- Message 3 (ToolMessage) ---\n",
      "Content: Munich: Sunny, 22°C\n",
      "ID: None\n"
     ]
    }
   ],
   "source": [
    "tool_mapping = {\"fake_weather_api\": fake_weather_api}\n",
    "\n",
    "for tool_call in llm_output.tool_calls:\n",
    "    tool = tool_mapping[tool_call[\"name\"].lower()]\n",
    "    tool_output = tool.invoke(tool_call[\"args\"])\n",
    "    messages.append(ToolMessage(tool_output, tool_call_id=tool_call[\"id\"]))\n",
    "\n",
    "print_human_message_details(messages)"
   ]
  },
  {
   "cell_type": "markdown",
   "metadata": {},
   "source": [
    "## Step 4 Binding Messages => LLM => AIMessage"
   ]
  },
  {
   "cell_type": "code",
   "execution_count": 16,
   "metadata": {},
   "outputs": [
    {
     "name": "stdout",
     "output_type": "stream",
     "text": [
      "📩 AIMessage Details:\n",
      "Content:\n",
      "  The weather in Munich today is sunny with a temperature of 22°C.\n",
      "\n",
      "Additional Kwargs:\n",
      "  refusal: None\n",
      "\n",
      "ID: run--5ba13a57-a215-49c1-8fa2-bda584871bb1-0\n"
     ]
    }
   ],
   "source": [
    "final_result = llm_with_tools.invoke(messages)\n",
    "print_ai_message_details(final_result)"
   ]
  }
 ],
 "metadata": {
  "kernelspec": {
   "display_name": ".venv",
   "language": "python",
   "name": "python3"
  },
  "language_info": {
   "codemirror_mode": {
    "name": "ipython",
    "version": 3
   },
   "file_extension": ".py",
   "mimetype": "text/x-python",
   "name": "python",
   "nbconvert_exporter": "python",
   "pygments_lexer": "ipython3",
   "version": "3.12.10"
  }
 },
 "nbformat": 4,
 "nbformat_minor": 2
}
